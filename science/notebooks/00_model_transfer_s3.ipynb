{
 "cells": [
  {
   "cell_type": "code",
   "execution_count": null,
   "metadata": {},
   "outputs": [],
   "source": [
    "%pip install pip -U -q\n",
    "%pip install -U boto3"
   ]
  },
  {
   "cell_type": "code",
   "execution_count": null,
   "metadata": {},
   "outputs": [],
   "source": [
    "import os, boto3\n",
    "\n",
    "filename = 'gpt2_lm_v1.keras'\n",
    "\n",
    "s3 = boto3.client(\"s3\",\n",
    "                endpoint_url=os.getenv(\"AWS_S3_ENDPOINT\"),\n",
    "                aws_access_key_id=os.getenv(\"AWS_ACCESS_KEY_ID\"),\n",
    "                aws_secret_access_key=os.getenv(\"AWS_SECRET_ACCESS_KEY\"))\n",
    "bucket = os.getenv(\"AWS_S3_BUCKET\")\n",
    "\n",
    "if bucket not in [bu[\"Name\"] for bu in s3.list_buckets()[\"Buckets\"]]:\n",
    "s3.create_bucket(Bucket=bucket)\n",
    "\n",
    "with open(filename, \"rb\") as f:\n",
    "s3.upload_fileobj(f, bucket, f'fraud/{filename}')\n",
    "print(f'uploaded: {bucket}/fraud/{filename}')"
   ]
  }
 ],
 "metadata": {
  "language_info": {
   "name": "python"
  }
 },
 "nbformat": 4,
 "nbformat_minor": 2
}
